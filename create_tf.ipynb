{
  "nbformat": 4,
  "nbformat_minor": 0,
  "metadata": {
    "colab": {
      "name": "create_tf.ipynb",
      "provenance": [],
      "collapsed_sections": []
    },
    "kernelspec": {
      "name": "python3",
      "display_name": "Python 3"
    }
  },
  "cells": [
    {
      "cell_type": "markdown",
      "metadata": {
        "id": "kz9Us0Ccl81U",
        "colab_type": "text"
      },
      "source": [
        "# Create TFRecord Dataset"
      ]
    },
    {
      "cell_type": "code",
      "metadata": {
        "id": "0vnnECerlhJL",
        "colab_type": "code",
        "colab": {}
      },
      "source": [
        "!pip install -q efficientnet\n",
        "!pip install -q iterative-stratification"
      ],
      "execution_count": 0,
      "outputs": []
    },
    {
      "cell_type": "code",
      "metadata": {
        "id": "67l0ExfYlsEJ",
        "colab_type": "code",
        "colab": {}
      },
      "source": [
        "import os \n",
        "import pandas as pd\n",
        "import math, re, gc\n",
        "import numpy as np \n",
        "import pickle\n",
        "from datetime import datetime, timedelta\n",
        "import tensorflow as tf\n",
        "from iterstrat.ml_stratifiers import MultilabelStratifiedKFold\n",
        "import efficientnet.tfkeras as efn\n",
        "from matplotlib import pyplot as plt\n",
        "from sklearn.metrics import f1_score, precision_score, recall_score, confusion_matrix\n",
        "import tensorflow.keras.layers as L\n",
        "\n",
        "print('TensorFlow version', tf.__version__)\n",
        "AUTO = tf.data.experimental.AUTOTUNE"
      ],
      "execution_count": 0,
      "outputs": []
    },
    {
      "cell_type": "code",
      "metadata": {
        "id": "l0iIp-axlvrg",
        "colab_type": "code",
        "colab": {}
      },
      "source": [
        "try:\n",
        "    tpu = tf.distribute.cluster_resolver.TPUClusterResolver()\n",
        "    print('Running on TPU', tpu.master())\n",
        "except ValueError:\n",
        "    tpu = None\n",
        "\n",
        "if tpu:\n",
        "    tf.config.experimental_connect_to_cluster(tpu)\n",
        "    tf.tpu.experimental.initialize_tpu_system(tpu)\n",
        "    strategy = tf.distribute.experimental.TPUStrategy(tpu)\n",
        "else:\n",
        "    strategy = tf.distribute.get_strategy()\n",
        "\n",
        "print('Replicas:', strategy.num_replicas_in_sync)"
      ],
      "execution_count": 0,
      "outputs": []
    },
    {
      "cell_type": "code",
      "metadata": {
        "id": "Q14Ej2A1lyJg",
        "colab_type": "code",
        "colab": {}
      },
      "source": [
        "EPOCHS = 5\n",
        "IMAGE_SIZE = [512, 512] \n",
        "BATCH_SIZE = 16 * strategy.num_replicas_in_sync\n",
        "\n",
        "DATA_PATH = '../input/aimongo-img/'"
      ],
      "execution_count": 0,
      "outputs": []
    },
    {
      "cell_type": "code",
      "metadata": {
        "id": "BtNA0ysBl0IW",
        "colab_type": "code",
        "colab": {}
      },
      "source": [
        "TRAINING_FILENAMES = tf.io.gfile.glob(DATA_PATH  + '/C1-P1_Train/*.jpg')\n",
        "TEST_FILENAMES = tf.io.gfile.glob(DATA_PATH  + '/C1-P1_Dev/*.jpg')"
      ],
      "execution_count": 0,
      "outputs": []
    },
    {
      "cell_type": "code",
      "metadata": {
        "id": "jneO6GSxl2Tg",
        "colab_type": "code",
        "colab": {}
      },
      "source": [
        "TRAINING_LABEL = pd.read_csv(DATA_PATH +'/train.csv')\n",
        "img_map = {'A':0,'B':1,'C':2}\n",
        "label_map=  dict(zip(TRAINING_LABEL['image_id'], TRAINING_LABEL['label'].map(img_map)))\n",
        "\n",
        "train_img_list = [img_file.split('/')[-1] for img_file in TRAINING_FILENAMES]\n",
        "LABEL = [label_map[img] for img in train_img_list]"
      ],
      "execution_count": 0,
      "outputs": []
    },
    {
      "cell_type": "code",
      "metadata": {
        "id": "iJSIC80Pl4dH",
        "colab_type": "code",
        "colab": {}
      },
      "source": [
        "%%capture\n",
        "mskf = MultilabelStratifiedKFold(n_splits=5,random_state=0)"
      ],
      "execution_count": 0,
      "outputs": []
    },
    {
      "cell_type": "code",
      "metadata": {
        "id": "E6o0v7_Ml6-Y",
        "colab_type": "code",
        "colab": {}
      },
      "source": [
        "fix_fold = 4\n",
        "for fold ,(trn_, val_) in enumerate(mskf.split(TRAINING_FILENAMES,pd.get_dummies(LABEL).values)):\n",
        "    if fold == fix_fold:\n",
        "        TRAIN_IMG = list(np.array(TRAINING_FILENAMES)[trn_])\n",
        "        TRAIN_LABEL = list(np.array(LABEL)[trn_])\n",
        "        VAL_IMG = list(np.array(TRAINING_FILENAMES)[val_])\n",
        "        VAL_LABEL = list(np.array(LABEL)[val_])"
      ],
      "execution_count": 0,
      "outputs": []
    },
    {
      "cell_type": "code",
      "metadata": {
        "id": "pRQFCVQFmD7I",
        "colab_type": "code",
        "colab": {}
      },
      "source": [
        "tr_tfrecord_file = 'train.tfrecords'\n",
        "with tf.io.TFRecordWriter(tr_tfrecord_file) as writer:\n",
        "    for image, label in zip(TRAIN_IMG, TRAIN_LABEL):\n",
        "        image = open(image, 'rb').read()     \n",
        "        feature = {                             \n",
        "            'image': tf.train.Feature(bytes_list=tf.train.BytesList(value=[image])),  \n",
        "            'label': tf.train.Feature(int64_list=tf.train.Int64List(value=[label]))  \n",
        "        }\n",
        "        example = tf.train.Example(features=tf.train.Features(feature=feature)) \n",
        "        writer.write(example.SerializeToString())   \n",
        "    writer.close()"
      ],
      "execution_count": 0,
      "outputs": []
    },
    {
      "cell_type": "code",
      "metadata": {
        "id": "mOQQWY5cmGCF",
        "colab_type": "code",
        "colab": {}
      },
      "source": [
        "val_tfrecord_file = 'val.tfrecords'\n",
        "with tf.io.TFRecordWriter(val_tfrecord_file) as writer:\n",
        "    for image, label in zip(VAL_IMG, VAL_LABEL):\n",
        "        image = open(image, 'rb').read()     \n",
        "        feature = {                             \n",
        "            'image': tf.train.Feature(bytes_list=tf.train.BytesList(value=[image])), \n",
        "            'label': tf.train.Feature(int64_list=tf.train.Int64List(value=[label]))  \n",
        "        }\n",
        "        example = tf.train.Example(features=tf.train.Features(feature=feature)) \n",
        "        writer.write(example.SerializeToString())   \n",
        "    writer.close()"
      ],
      "execution_count": 0,
      "outputs": []
    },
    {
      "cell_type": "code",
      "metadata": {
        "id": "Ds_dnT7YmISL",
        "colab_type": "code",
        "colab": {}
      },
      "source": [
        "dev_tfrecord_file = 'dev.tfrecords'\n",
        "IMG_NAME = [bytes(img_file.split('/')[-1],'utf8') for img_file in TEST_FILENAMES]\n",
        "with tf.io.TFRecordWriter(dev_tfrecord_file) as writer:\n",
        "    for image,img_name in zip(TEST_FILENAMES, IMG_NAME):\n",
        "        image = open(image, 'rb').read()    \n",
        "        feature = {                             \n",
        "            'image': tf.train.Feature(bytes_list=tf.train.BytesList(value=[image])), \n",
        "            'image_name': tf.train.Feature(bytes_list=tf.train.BytesList(value=[img_name])) \n",
        "        }\n",
        "        example = tf.train.Example(features=tf.train.Features(feature=feature))\n",
        "        writer.write(example.SerializeToString())   \n",
        "    writer.close()"
      ],
      "execution_count": 0,
      "outputs": []
    }
  ]
}